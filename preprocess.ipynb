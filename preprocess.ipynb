{
 "cells": [
  {
   "attachments": {},
   "cell_type": "markdown",
   "metadata": {},
   "source": [
    "## Train-Test Split"
   ]
  },
  {
   "cell_type": "code",
   "execution_count": 3,
   "metadata": {},
   "outputs": [],
   "source": [
    "import os"
   ]
  },
  {
   "cell_type": "code",
   "execution_count": 9,
   "metadata": {},
   "outputs": [],
   "source": [
    "output_dir = 'data'\n",
    "input_dir = 'celebrity_faces_cropped_dataset'\n",
    "\n",
    "if not os.path.exists(output_dir):\n",
    "    os.makedirs(output_dir)\n",
    "\n",
    "train_dir = os.path.join(output_dir, 'train')\n",
    "test_dir = os.path.join(output_dir, 'test')\n",
    "\n",
    "if not os.path.exists(train_dir):\n",
    "    os.makedirs(train_dir)\n",
    "if not os.path.exists(test_dir):\n",
    "    os.makedirs(test_dir)"
   ]
  },
  {
   "cell_type": "code",
   "execution_count": 11,
   "metadata": {},
   "outputs": [],
   "source": [
    "for celeb in os.listdir(input_dir):\n",
    "    celeb_dir = os.path.join(input_dir, celeb)\n",
    "    picture_list = os.listdir(celeb_dir)\n",
    "    train_pictures = picture_list[:int(len(picture_list)*0.8)]\n",
    "    test_pictures = picture_list[int(len(picture_list)*0.8):]\n",
    "\n",
    "    train_celeb_dir = os.path.join(train_dir, celeb)\n",
    "    test_celeb_dir = os.path.join(test_dir, celeb)\n",
    "\n",
    "    if not os.path.exists(train_celeb_dir):\n",
    "        os.makedirs(train_celeb_dir)\n",
    "    if not os.path.exists(test_celeb_dir):\n",
    "        os.makedirs(test_celeb_dir)\n",
    "        \n",
    "    for picture in train_pictures:\n",
    "        picture_path = os.path.join(celeb_dir, picture)\n",
    "        os.rename(picture_path, os.path.join(train_celeb_dir, picture))\n",
    "    for picture in test_pictures:\n",
    "        picture_path = os.path.join(celeb_dir, picture)\n",
    "        os.rename(picture_path, os.path.join(test_celeb_dir, picture))"
   ]
  },
  {
   "cell_type": "code",
   "execution_count": 12,
   "metadata": {},
   "outputs": [],
   "source": [
    "# Angelina Jolie Cloacked images:\n",
    "path = os.path.join(train_dir, 'Angelina Jolie')\n",
    "for picture in os.listdir(path):\n",
    "    if picture.endswith('cloaked.png'):\n",
    "        continue\n",
    "    else:\n",
    "        os.remove(os.path.join(path, picture))"
   ]
  },
  {
   "cell_type": "code",
   "execution_count": 13,
   "metadata": {},
   "outputs": [],
   "source": [
    "# Brad Pitt Cloacked images:\n",
    "path = os.path.join(train_dir, 'Brad Pitt')\n",
    "for picture in os.listdir(path):\n",
    "    if picture.endswith('cloaked.png'):\n",
    "        continue\n",
    "    else:\n",
    "        os.remove(os.path.join(path, picture))"
   ]
  }
 ],
 "metadata": {
  "kernelspec": {
   "display_name": "Python 3",
   "language": "python",
   "name": "python3"
  },
  "language_info": {
   "codemirror_mode": {
    "name": "ipython",
    "version": 3
   },
   "file_extension": ".py",
   "mimetype": "text/x-python",
   "name": "python",
   "nbconvert_exporter": "python",
   "pygments_lexer": "ipython3",
   "version": "3.8.12"
  },
  "orig_nbformat": 4
 },
 "nbformat": 4,
 "nbformat_minor": 2
}
