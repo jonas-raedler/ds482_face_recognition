{
 "cells": [
  {
   "cell_type": "code",
   "execution_count": 1,
   "metadata": {},
   "outputs": [],
   "source": [
    "from fawkes.protection import main"
   ]
  },
  {
   "attachments": {},
   "cell_type": "markdown",
   "metadata": {},
   "source": [
    "## Configure\n",
    "\n",
    "Configure the following variables by selecting a single value from every list."
   ]
  },
  {
   "cell_type": "code",
   "execution_count": 2,
   "metadata": {},
   "outputs": [
    {
     "name": "stdout",
     "output_type": "stream",
     "text": [
      "You are about to cloack images in data/train/Angelina Jolie/ with mode low.\n"
     ]
    }
   ],
   "source": [
    "MODE = ['min', 'low', 'mid', 'high'][1] # Select one; The higher the mode is, the more perturbation added and stronger protection\n",
    "PATH_TO_IMAGES = ['data/train/Angelina Jolie/', 'data/train/Brad Pitt/'][0] # List of paths to images to protect\n",
    "print(f\"You are about to cloack images in {PATH_TO_IMAGES} with mode {MODE}.\")"
   ]
  },
  {
   "attachments": {},
   "cell_type": "markdown",
   "metadata": {},
   "source": [
    "## Run the Cloak"
   ]
  },
  {
   "cell_type": "code",
   "execution_count": 3,
   "metadata": {},
   "outputs": [
    {
     "name": "stdout",
     "output_type": "stream",
     "text": [
      "Identify 1 files in the directory\n",
      "Identify 1 images in the directory\n",
      "Find 1 face(s) in cloak_test\\081_12fb31ec.jpg\n",
      "processing image 1 at 2023-05-06 20:57:46.811536\n",
      "40/40 [==============================] - 29s 733ms/step\n",
      "\n",
      "\n",
      "protection cost 29.302186 s\n",
      "Done!\n"
     ]
    }
   ],
   "source": [
    "args = ['cloak.ipynb', '--directory', PATH_TO_IMAGES, '--mode', MODE]\n",
    "main(*args)"
   ]
  },
  {
   "attachments": {},
   "cell_type": "markdown",
   "metadata": {},
   "source": [
    "## Remove the uncloaked files"
   ]
  },
  {
   "cell_type": "code",
   "execution_count": 4,
   "metadata": {},
   "outputs": [
    {
     "name": "stdout",
     "output_type": "stream",
     "text": [
      "You are about to remove the uncloaked images in data/train/Angelina Jolie/.\n"
     ]
    }
   ],
   "source": [
    "print(f\"You are about to remove the uncloaked images in {PATH_TO_IMAGES}.\")"
   ]
  },
  {
   "cell_type": "code",
   "execution_count": 5,
   "metadata": {},
   "outputs": [],
   "source": [
    "import os\n",
    "# Angelina Jolie Cloacked images:\n",
    "path = os.path.join(PATH_TO_IMAGES)\n",
    "for picture in os.listdir(path):\n",
    "    if picture.endswith('cloaked.png'):\n",
    "        continue\n",
    "    else:\n",
    "        os.remove(os.path.join(path, picture))"
   ]
  }
 ],
 "metadata": {
  "kernelspec": {
   "display_name": "Python 3",
   "language": "python",
   "name": "python3"
  },
  "language_info": {
   "codemirror_mode": {
    "name": "ipython",
    "version": 3
   },
   "file_extension": ".py",
   "mimetype": "text/x-python",
   "name": "python",
   "nbconvert_exporter": "python",
   "pygments_lexer": "ipython3",
   "version": "3.8.12"
  },
  "orig_nbformat": 4
 },
 "nbformat": 4,
 "nbformat_minor": 2
}
